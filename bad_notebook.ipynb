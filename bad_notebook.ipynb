{
 "cells": [
  {
   "cell_type": "code",
   "execution_count": 1,
   "id": "fe80bf41-0ef5-40a3-ba18-8d629a1c2744",
   "metadata": {},
   "outputs": [
    {
     "ename": "NameError",
     "evalue": "name 'spark' is not defined",
     "output_type": "error",
     "traceback": [
      "\u001b[0;31m---------------------------------------------------------------------------\u001b[0m",
      "\u001b[0;31mNameError\u001b[0m                                 Traceback (most recent call last)",
      "Cell \u001b[0;32mIn[1], line 7\u001b[0m\n\u001b[1;32m      4\u001b[0m diamonds_path \u001b[38;5;241m=\u001b[39m \u001b[38;5;124m\"\u001b[39m\u001b[38;5;124m/databricks-datasets/Rdatasets/data-001/csv/ggplot2/diamonds.csv\u001b[39m\u001b[38;5;124m\"\u001b[39m\n\u001b[1;32m      6\u001b[0m \u001b[38;5;66;03m# Load the diamonds dataset into a dataframe\u001b[39;00m\n\u001b[0;32m----> 7\u001b[0m df_diamonds \u001b[38;5;241m=\u001b[39m \u001b[43mspark\u001b[49m\u001b[38;5;241m.\u001b[39mread\u001b[38;5;241m.\u001b[39mformat(\u001b[38;5;124m\"\u001b[39m\u001b[38;5;124mcsv\u001b[39m\u001b[38;5;124m\"\u001b[39m)\u001b[38;5;241m.\u001b[39moption(\u001b[38;5;124m\"\u001b[39m\u001b[38;5;124mheader\u001b[39m\u001b[38;5;124m\"\u001b[39m, \u001b[38;5;124m\"\u001b[39m\u001b[38;5;124mtrue\u001b[39m\u001b[38;5;124m\"\u001b[39m)\u001b[38;5;241m.\u001b[39mload(diamonds_path)\n\u001b[1;32m      9\u001b[0m \u001b[38;5;66;03m# Limit the data to the first 10 million records, then sample 1 million points\u001b[39;00m\n\u001b[1;32m     10\u001b[0m df_sampled \u001b[38;5;241m=\u001b[39m df_diamonds\u001b[38;5;241m.\u001b[39mlimit(\u001b[38;5;241m10000000\u001b[39m)\u001b[38;5;241m.\u001b[39msample(\u001b[38;5;28;01mFalse\u001b[39;00m, \u001b[38;5;241m1000000\u001b[39m\u001b[38;5;241m/\u001b[39m\u001b[38;5;241m10000000\u001b[39m)\n",
      "\u001b[0;31mNameError\u001b[0m: name 'spark' is not defined"
     ]
    }
   ],
   "source": [
    "import pandas as pd\n",
    "import numpy as np\n",
    "import plotly.express as px\n",
    "\n",
    "# Specify the path to the diamonds dataset CSV file\n",
    "diamonds_path = \"diamonds.csv\"\n",
    "\n",
    "# Load the diamonds dataset into a pandas dataframe\n",
    "df_diamonds = pd.read_csv(diamonds_path)\n",
    "\n",
    "# Number of points to display in the plot\n",
    "N = 1000000\n",
    "\n",
    "# Select a random sample of N points from the dataframe\n",
    "df_sampled = df_diamonds.sample(n=N, replace=True)\n",
    "\n",
    "# Use plotly to generate a scatter plot \n",
    "fig = px.scatter(df_sampled, x=\"carat\", y=\"price\", color=\"cut\")\n",
    "\n",
    "# Display the plot\n",
    "fig.show()"
   ]
  },
  {
   "cell_type": "code",
   "execution_count": null,
   "id": "f9c12fef-c754-4835-b9ec-921102cd48c2",
   "metadata": {},
   "outputs": [],
   "source": []
  }
 ],
 "metadata": {
  "kernelspec": {
   "display_name": "Python 3 (ipykernel)",
   "language": "python",
   "name": "python3"
  },
  "language_info": {
   "codemirror_mode": {
    "name": "ipython",
    "version": 3
   },
   "file_extension": ".py",
   "mimetype": "text/x-python",
   "name": "python",
   "nbconvert_exporter": "python",
   "pygments_lexer": "ipython3",
   "version": "3.12.0"
  }
 },
 "nbformat": 4,
 "nbformat_minor": 5
}